{
  "nbformat": 4,
  "nbformat_minor": 0,
  "metadata": {
    "colab": {
      "provenance": []
    },
    "kernelspec": {
      "name": "python3",
      "display_name": "Python 3"
    },
    "language_info": {
      "name": "python"
    }
  },
  "cells": [
    {
      "cell_type": "markdown",
      "source": [
        "#1.Imports"
      ],
      "metadata": {
        "id": "Gmnk5Jgrpi8v"
      }
    },
    {
      "cell_type": "code",
      "source": [
        "import numpy as np\n",
        "import urllib.request\n",
        "from io import BytesIO\n",
        "import matplotlib.pyplot as plt\n",
        "from tensorflow.keras.models import Sequential\n",
        "from tensorflow.keras.layers import Dense"
      ],
      "metadata": {
        "id": "nufstkRV4fHE"
      },
      "execution_count": null,
      "outputs": []
    },
    {
      "cell_type": "markdown",
      "source": [
        "#2.Retrive Data"
      ],
      "metadata": {
        "id": "Tcp3RUYspwVO"
      }
    },
    {
      "cell_type": "code",
      "source": [
        "def get_mnist():\n",
        "    # Download the MNIST dataset\n",
        "    url = \"https://storage.googleapis.com/tensorflow/tf-keras-datasets/mnist.npz\"\n",
        "    response = urllib.request.urlopen(url)\n",
        "    mnist_data = np.load(BytesIO(response.read()))\n",
        "\n",
        "    images, labels = mnist_data[\"x_train\"], mnist_data[\"y_train\"]\n",
        "\n",
        "    images = images.astype(\"float32\") / 255\n",
        "    images = np.reshape(images, (images.shape[0], images.shape[1] * images.shape[2]))\n",
        "    labels = np.eye(10)[labels]\n",
        "\n",
        "    return images, labels"
      ],
      "metadata": {
        "id": "eL0mKD_c2xJr"
      },
      "execution_count": null,
      "outputs": []
    },
    {
      "cell_type": "markdown",
      "source": [
        "#3.Storing the Data"
      ],
      "metadata": {
        "id": "cRNhpyoSp4UG"
      }
    },
    {
      "cell_type": "code",
      "source": [
        "#To get images and labels into our pipeline\n",
        "images, labels = get_mnist() #images is of 60000 images each of with 784 variables and labels has a shape of 60000 images of 10 labels"
      ],
      "metadata": {
        "id": "Ay16tQKt22Cu"
      },
      "execution_count": null,
      "outputs": []
    },
    {
      "cell_type": "markdown",
      "source": [
        "##3.1Define Weights"
      ],
      "metadata": {
        "id": "pifP0jZ4qB-k"
      }
    },
    {
      "cell_type": "code",
      "source": [
        "wih = np.random.uniform(-0.5,0.5,(20,784))\n",
        "who = np.random.uniform(-0.5,0.5,(10,20))\n",
        "bih = np.zeros((20,1))\n",
        "bho = np.zeros((10,1))"
      ],
      "metadata": {
        "id": "hInIwG8JsHwh"
      },
      "execution_count": null,
      "outputs": []
    },
    {
      "cell_type": "code",
      "source": [
        "learn_rate = 0.01\n",
        "nr_correct = 0\n",
        "epochs = 10"
      ],
      "metadata": {
        "id": "8kC4-IX8ODHu"
      },
      "execution_count": null,
      "outputs": []
    },
    {
      "cell_type": "markdown",
      "source": [
        "##3.2Training teh Neural Network"
      ],
      "metadata": {
        "id": "yrGKGZDJqGoV"
      }
    },
    {
      "cell_type": "code",
      "source": [
        "#Training loop the Neural Network\n",
        "for epoch in range(epochs):\n",
        "  for img,lb in zip(images, labels):\n",
        "    img.shape += (1,)\n",
        "    lb.shape += (1,)\n",
        "\n",
        "    #Forward Propagation\n",
        "    h_pre = bih + wih@img #multiply the input layer with weight matrix and then sum with biased\n",
        "    h = 1 / (1 + np.exp(-h_pre)) #Applying sigmoid activation fuction to normalize the values\n",
        "    #Repating the procedure to get the output value\n",
        "    o_pre = bho + who@h\n",
        "    o = 1 / (1 + np.exp(-o_pre))\n",
        "\n",
        "    #Cost/Error Calculation by comparing with the given label\n",
        "    e = 1/len(o) * np.sum((o-1) **2, axis = 0)\n",
        "    #To check whether our neural network classify the code correctly\n",
        "    nr_correct += int(np.argmax(o) == np.argmax(lb))\n",
        "\n",
        "    #Back Propagation\n",
        "    delta_o = o - lb #difference between the output value and label value\n",
        "    who += -learn_rate * delta_o@np.transpose(h) #Multiply the hidden layer Transposed output with delta_o and multiply with -learn_rate to update the error values\n",
        "    bho += -learn_rate * delta_o #Since the bias weights always '1', there is no need to multiply\n",
        "\n",
        "    #calculating the updated hiden layer values to input layer\n",
        "    delta_h = np.transpose(who) @delta_o * (h * (1 - h))#Here we have to use the derivative of activation function to calculate with updated hidden layer values\n",
        "    wih += -learn_rate * delta_h@np.transpose(img)\n",
        "    bih += -learn_rate * delta_h\n",
        "\n",
        "  #Accuracy of the model for each epoch\n",
        "  print(f\"Acc: {round((nr_correct / images.shape[0])*100, 2)}%\")\n",
        "  nr_correct = 0\n"
      ],
      "metadata": {
        "colab": {
          "base_uri": "https://localhost:8080/"
        },
        "id": "eRqN6Lq-PBTR",
        "outputId": "223e32df-148e-414c-c1eb-0e167682f5cf"
      },
      "execution_count": null,
      "outputs": [
        {
          "output_type": "stream",
          "name": "stdout",
          "text": [
            "Acc: 86.29%\n",
            "Acc: 92.17%\n",
            "Acc: 93.47%\n",
            "Acc: 94.14%\n",
            "Acc: 94.62%\n",
            "Acc: 94.95%\n",
            "Acc: 95.22%\n",
            "Acc: 95.42%\n",
            "Acc: 95.6%\n",
            "Acc: 95.76%\n"
          ]
        }
      ]
    },
    {
      "cell_type": "markdown",
      "source": [
        "##3.3Resuts"
      ],
      "metadata": {
        "id": "Z1LsIhNZqN0D"
      }
    },
    {
      "cell_type": "code",
      "source": [
        "# Show results\n",
        "while True:\n",
        "    try:\n",
        "        user_input = input(\"Enter a number (0 - 59999) or 'q' to quit: \")\n",
        "\n",
        "        if user_input.lower() == 'q':\n",
        "            print(\"Quitting the program.\")\n",
        "            break  # Exit the loop if 'q' is entered\n",
        "\n",
        "        index = int(user_input)\n",
        "\n",
        "        if 0 <= index < len(images):\n",
        "            img = images[index]\n",
        "            plt.imshow(img.reshape(28, 28), cmap=\"Greys\")\n",
        "\n",
        "            img.shape += (1,)\n",
        "            # Forward Propagation input -> hidden\n",
        "            h_pre = bih + wih @ img.reshape(784, 1)\n",
        "            h = 1 / (1 + np.exp(-h_pre))\n",
        "            # Forward Propagation hidden -> output\n",
        "            o_pre = bho + who @ h\n",
        "            o = 1 / (1 + np.exp(-o_pre))\n",
        "            plt.title(f\"The number you have selected is {o.argmax()} :)\")\n",
        "            plt.show()\n",
        "        else:\n",
        "            print(\"Index out of bounds. Please enter a valid index.\")\n",
        "    except ValueError:\n",
        "        print(\"Invalid input. Please enter a valid number or 'q' to quit.\")"
      ],
      "metadata": {
        "colab": {
          "base_uri": "https://localhost:8080/",
          "height": 506
        },
        "id": "4QRQSrhgf7hZ",
        "outputId": "0de6490b-e488-48a9-cf52-e35324c10ddd"
      },
      "execution_count": null,
      "outputs": [
        {
          "name": "stdout",
          "output_type": "stream",
          "text": [
            "Enter a number (0 - 59999) or 'q' to quit: 0\n"
          ]
        },
        {
          "output_type": "display_data",
          "data": {
            "text/plain": [
              "<Figure size 640x480 with 1 Axes>"
            ],
            "image/png": "[encoded data removed]"
          },
          "metadata": {}
        },
        {
          "output_type": "stream",
          "name": "stdout",
          "text": [
            "Enter a number (0 - 59999) or 'q' to quit: q\n",
            "Quitting the program.\n"
          ]
        }
      ]
    },
    {
      "cell_type": "markdown",
      "source": [
        "#4.Neural Network Architecture Vizualization"
      ],
      "metadata": {
        "id": "KZB7p9wyqXgx"
      }
    },
    {
      "cell_type": "code",
      "source": [
        "model = Sequential([\n",
        "    Dense(20, input_shape=(784,), activation='sigmoid', weights=[wih.T, bih.flatten()]),\n",
        "    Dense(10, activation='sigmoid', weights=[who.T, bho.flatten()])\n",
        "])"
      ],
      "metadata": {
        "id": "F5KaG3xjsSur"
      },
      "execution_count": null,
      "outputs": []
    },
    {
      "cell_type": "code",
      "source": [
        "# Compile the model\n",
        "model.compile(optimizer='sgd', loss='mse', metrics=['accuracy'])"
      ],
      "metadata": {
        "id": "k8VdmXgRsYEg"
      },
      "execution_count": null,
      "outputs": []
    },
    {
      "cell_type": "code",
      "source": [
        "# Visualize the initial architecture\n",
        "plot_model(model, to_file='neural_network_architecture_initial.png', show_shapes=True)"
      ],
      "metadata": {
        "colab": {
          "base_uri": "https://localhost:8080/",
          "height": 312
        },
        "id": "Zk45GSEssgZy",
        "outputId": "155c4210-d7e8-4914-edce-5745a9033c05"
      },
      "execution_count": null,
      "outputs": [
        {
          "output_type": "execute_result",
          "data": {
            "image/png": "[encoded data removed]",
            "text/plain": [
              "<IPython.core.display.Image object>"
            ]
          },
          "metadata": {},
          "execution_count": 16
        }
      ]
    }
  ]
}